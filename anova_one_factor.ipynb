{
 "cells": [
  {
   "cell_type": "markdown",
   "metadata": {},
   "source": [
    "# One-factor analysis of variance (one-way ANOVA)\n",
    "\n",
    "# In brevi\n",
    "\n",
    "The purpose of this repository is to illustrate a one-factor analysis of variance (one-way ANOVA). In addition there are statistical and graphical analyses."
   ]
  },
  {
   "cell_type": "markdown",
   "metadata": {},
   "source": [
    "# Data\n",
    "\n",
    "Download the data file.\n",
    "\n",
    "[anova_one_factor.csv](https://drive.google.com/open?id=1smA0Brf2BiHUugRUhQWCiEj5hbyYv1DS)"
   ]
  },
  {
   "cell_type": "markdown",
   "metadata": {},
   "source": [
    "# Methodology\n",
    "\n",
    "Various data munging operations are performed using pandas."
   ]
  },
  {
   "cell_type": "code",
   "execution_count": 1,
   "metadata": {},
   "outputs": [],
   "source": [
    "from datetime import datetime\n",
    "start_time = datetime.now()"
   ]
  },
  {
   "cell_type": "code",
   "execution_count": 2,
   "metadata": {},
   "outputs": [
    {
     "name": "stderr",
     "output_type": "stream",
     "text": [
      "/home/gilles/.pyenv/versions/3.6.6/lib/python3.6/importlib/_bootstrap.py:219: RuntimeWarning: numpy.dtype size changed, may indicate binary incompatibility. Expected 96, got 88\n",
      "  return f(*args, **kwds)\n",
      "/home/gilles/.pyenv/versions/3.6.6/lib/python3.6/importlib/_bootstrap.py:219: RuntimeWarning: numpy.dtype size changed, may indicate binary incompatibility. Expected 96, got 88\n",
      "  return f(*args, **kwds)\n"
     ]
    }
   ],
   "source": [
    "# Import the required librairies.\n",
    "import pandas as pd\n",
    "import statsmodels.api as sm\n",
    "import scipy.stats as st\n",
    "import numpy as np"
   ]
  },
  {
   "cell_type": "code",
   "execution_count": 3,
   "metadata": {},
   "outputs": [],
   "source": [
    "# Declare constants\n",
    "confidence_level = 0.95"
   ]
  },
  {
   "cell_type": "code",
   "execution_count": 4,
   "metadata": {},
   "outputs": [
    {
     "data": {
      "text/plain": [
       "Index(['y', 'x', 'w'], dtype='object')"
      ]
     },
     "execution_count": 4,
     "metadata": {},
     "output_type": "execute_result"
    }
   ],
   "source": [
    "# Read the data file.\n",
    "# y is the column of response values.\n",
    "# x is the column of factor levels, as numbers.\n",
    "# w is the column of factor levels, as text.\n",
    "df = pd.read_csv('anova_one_factor.csv')\n",
    "df.columns"
   ]
  },
  {
   "cell_type": "code",
   "execution_count": 5,
   "metadata": {},
   "outputs": [
    {
     "data": {
      "text/plain": [
       "array([1, 3, 2])"
      ]
     },
     "execution_count": 5,
     "metadata": {},
     "output_type": "execute_result"
    }
   ],
   "source": [
    "# How many levels for factor x?\n",
    "df['x'].unique()"
   ]
  },
  {
   "cell_type": "code",
   "execution_count": 6,
   "metadata": {},
   "outputs": [
    {
     "data": {
      "text/plain": [
       "array(['A', 'C', 'B'], dtype=object)"
      ]
     },
     "execution_count": 6,
     "metadata": {},
     "output_type": "execute_result"
    }
   ],
   "source": [
    "# How many levels for factor w?\n",
    "df['w'].unique()"
   ]
  },
  {
   "cell_type": "code",
   "execution_count": 7,
   "metadata": {},
   "outputs": [
    {
     "data": {
      "text/html": [
       "<div>\n",
       "<style scoped>\n",
       "    .dataframe tbody tr th:only-of-type {\n",
       "        vertical-align: middle;\n",
       "    }\n",
       "\n",
       "    .dataframe tbody tr th {\n",
       "        vertical-align: top;\n",
       "    }\n",
       "\n",
       "    .dataframe thead th {\n",
       "        text-align: right;\n",
       "    }\n",
       "</style>\n",
       "<table border=\"1\" class=\"dataframe\">\n",
       "  <thead>\n",
       "    <tr style=\"text-align: right;\">\n",
       "      <th></th>\n",
       "      <th>count</th>\n",
       "      <th>mean</th>\n",
       "      <th>std</th>\n",
       "      <th>min</th>\n",
       "      <th>25%</th>\n",
       "      <th>50%</th>\n",
       "      <th>75%</th>\n",
       "      <th>max</th>\n",
       "    </tr>\n",
       "    <tr>\n",
       "      <th>x</th>\n",
       "      <th></th>\n",
       "      <th></th>\n",
       "      <th></th>\n",
       "      <th></th>\n",
       "      <th></th>\n",
       "      <th></th>\n",
       "      <th></th>\n",
       "      <th></th>\n",
       "    </tr>\n",
       "  </thead>\n",
       "  <tbody>\n",
       "    <tr>\n",
       "      <th>1</th>\n",
       "      <td>603.0</td>\n",
       "      <td>81.527902</td>\n",
       "      <td>5.102107</td>\n",
       "      <td>62.44</td>\n",
       "      <td>78.891667</td>\n",
       "      <td>81.60</td>\n",
       "      <td>84.54</td>\n",
       "      <td>99.12</td>\n",
       "    </tr>\n",
       "    <tr>\n",
       "      <th>2</th>\n",
       "      <td>159.0</td>\n",
       "      <td>79.875484</td>\n",
       "      <td>4.842203</td>\n",
       "      <td>66.62</td>\n",
       "      <td>76.770000</td>\n",
       "      <td>79.50</td>\n",
       "      <td>82.48</td>\n",
       "      <td>94.66</td>\n",
       "    </tr>\n",
       "    <tr>\n",
       "      <th>3</th>\n",
       "      <td>17.0</td>\n",
       "      <td>81.715294</td>\n",
       "      <td>4.065670</td>\n",
       "      <td>76.14</td>\n",
       "      <td>78.360000</td>\n",
       "      <td>81.04</td>\n",
       "      <td>85.90</td>\n",
       "      <td>88.62</td>\n",
       "    </tr>\n",
       "  </tbody>\n",
       "</table>\n",
       "</div>"
      ],
      "text/plain": [
       "   count       mean       std    min        25%    50%    75%    max\n",
       "x                                                                   \n",
       "1  603.0  81.527902  5.102107  62.44  78.891667  81.60  84.54  99.12\n",
       "2  159.0  79.875484  4.842203  66.62  76.770000  79.50  82.48  94.66\n",
       "3   17.0  81.715294  4.065670  76.14  78.360000  81.04  85.90  88.62"
      ]
     },
     "execution_count": 7,
     "metadata": {},
     "output_type": "execute_result"
    }
   ],
   "source": [
    "# Calculate basic statistics for y by group within x.\n",
    "groupby_x = df['y'].groupby(df['x'])\n",
    "groupby_x.describe()"
   ]
  },
  {
   "cell_type": "code",
   "execution_count": 8,
   "metadata": {},
   "outputs": [
    {
     "data": {
      "text/html": [
       "<div>\n",
       "<style scoped>\n",
       "    .dataframe tbody tr th:only-of-type {\n",
       "        vertical-align: middle;\n",
       "    }\n",
       "\n",
       "    .dataframe tbody tr th {\n",
       "        vertical-align: top;\n",
       "    }\n",
       "\n",
       "    .dataframe thead th {\n",
       "        text-align: right;\n",
       "    }\n",
       "</style>\n",
       "<table border=\"1\" class=\"dataframe\">\n",
       "  <thead>\n",
       "    <tr style=\"text-align: right;\">\n",
       "      <th></th>\n",
       "      <th>count</th>\n",
       "      <th>mean</th>\n",
       "      <th>std</th>\n",
       "      <th>min</th>\n",
       "      <th>25%</th>\n",
       "      <th>50%</th>\n",
       "      <th>75%</th>\n",
       "      <th>max</th>\n",
       "    </tr>\n",
       "    <tr>\n",
       "      <th>w</th>\n",
       "      <th></th>\n",
       "      <th></th>\n",
       "      <th></th>\n",
       "      <th></th>\n",
       "      <th></th>\n",
       "      <th></th>\n",
       "      <th></th>\n",
       "      <th></th>\n",
       "    </tr>\n",
       "  </thead>\n",
       "  <tbody>\n",
       "    <tr>\n",
       "      <th>A</th>\n",
       "      <td>603.0</td>\n",
       "      <td>81.527902</td>\n",
       "      <td>5.102107</td>\n",
       "      <td>62.44</td>\n",
       "      <td>78.891667</td>\n",
       "      <td>81.60</td>\n",
       "      <td>84.54</td>\n",
       "      <td>99.12</td>\n",
       "    </tr>\n",
       "    <tr>\n",
       "      <th>B</th>\n",
       "      <td>159.0</td>\n",
       "      <td>79.875484</td>\n",
       "      <td>4.842203</td>\n",
       "      <td>66.62</td>\n",
       "      <td>76.770000</td>\n",
       "      <td>79.50</td>\n",
       "      <td>82.48</td>\n",
       "      <td>94.66</td>\n",
       "    </tr>\n",
       "    <tr>\n",
       "      <th>C</th>\n",
       "      <td>17.0</td>\n",
       "      <td>81.715294</td>\n",
       "      <td>4.065670</td>\n",
       "      <td>76.14</td>\n",
       "      <td>78.360000</td>\n",
       "      <td>81.04</td>\n",
       "      <td>85.90</td>\n",
       "      <td>88.62</td>\n",
       "    </tr>\n",
       "  </tbody>\n",
       "</table>\n",
       "</div>"
      ],
      "text/plain": [
       "   count       mean       std    min        25%    50%    75%    max\n",
       "w                                                                   \n",
       "A  603.0  81.527902  5.102107  62.44  78.891667  81.60  84.54  99.12\n",
       "B  159.0  79.875484  4.842203  66.62  76.770000  79.50  82.48  94.66\n",
       "C   17.0  81.715294  4.065670  76.14  78.360000  81.04  85.90  88.62"
      ]
     },
     "execution_count": 8,
     "metadata": {},
     "output_type": "execute_result"
    }
   ],
   "source": [
    "# Calculate basic statistics for y by group within w.\n",
    "groupby_w = df['y'].groupby(df['w'])\n",
    "groupby_w.describe()"
   ]
  },
  {
   "cell_type": "code",
   "execution_count": 9,
   "metadata": {},
   "outputs": [],
   "source": [
    "# This works but the answer is close, not exact.\n",
    "#def average_ci(data):\n",
    "#    average_conf_int = sm.stats.DescrStatsW(data).tconfint_mean(alpha=0.05,\n",
    "#                                                                alternative='two-sided')\n",
    "#    average_conf_int = (round(average_conf_int[0], 3), round(average_conf_int[1], 3))\n",
    "#    return average_conf_int"
   ]
  },
  {
   "cell_type": "code",
   "execution_count": 10,
   "metadata": {},
   "outputs": [],
   "source": [
    "def average_ci(data):\n",
    "    average_conf_int = sm.stats.DescrStatsW(data).tconfint_mean(alpha=1-confidence_level,\n",
    "                                                                alternative='two-sided')\n",
    "    average_conf_int = (round(average_conf_int[0], 3), round(average_conf_int[1], 3))\n",
    "    return average_conf_int"
   ]
  },
  {
   "cell_type": "code",
   "execution_count": 11,
   "metadata": {},
   "outputs": [],
   "source": [
    "def std_dev_ci(data):\n",
    "    numerator = (data.count() - 1) * data.var()\n",
    "    lower_limit = np.sqrt((numerator / \\\n",
    "                           st.chi2.ppf((1 - confidence_level)/2,\n",
    "                                       data.count() - 1)))\n",
    "    upper_limit = np.sqrt(numerator / \\\n",
    "                          st.chi2.ppf((1- (1 - confidence_level)/2),\n",
    "                                      data.count() - 1))\n",
    "    std_dev_conf_int = lower_limit, upper_limit\n",
    "    std_dev_conf_int = {round(std_dev_conf_int[0], 3),\n",
    "                        round(std_dev_conf_int[1], 3)}\n",
    "    return std_dev_conf_int"
   ]
  },
  {
   "cell_type": "code",
   "execution_count": 12,
   "metadata": {},
   "outputs": [
    {
     "data": {
      "text/html": [
       "<div>\n",
       "<style scoped>\n",
       "    .dataframe tbody tr th:only-of-type {\n",
       "        vertical-align: middle;\n",
       "    }\n",
       "\n",
       "    .dataframe tbody tr th {\n",
       "        vertical-align: top;\n",
       "    }\n",
       "\n",
       "    .dataframe thead th {\n",
       "        text-align: right;\n",
       "    }\n",
       "</style>\n",
       "<table border=\"1\" class=\"dataframe\">\n",
       "  <thead>\n",
       "    <tr style=\"text-align: right;\">\n",
       "      <th></th>\n",
       "      <th></th>\n",
       "      <th>y count</th>\n",
       "      <th>y mean</th>\n",
       "      <th>y mean ci</th>\n",
       "      <th>y median</th>\n",
       "      <th>y std</th>\n",
       "      <th>y std dev ci</th>\n",
       "    </tr>\n",
       "    <tr>\n",
       "      <th>x</th>\n",
       "      <th>w</th>\n",
       "      <th></th>\n",
       "      <th></th>\n",
       "      <th></th>\n",
       "      <th></th>\n",
       "      <th></th>\n",
       "      <th></th>\n",
       "    </tr>\n",
       "  </thead>\n",
       "  <tbody>\n",
       "    <tr>\n",
       "      <th>1</th>\n",
       "      <th>A</th>\n",
       "      <td>603</td>\n",
       "      <td>81.528</td>\n",
       "      <td>(81.12, 81.936)</td>\n",
       "      <td>81.60</td>\n",
       "      <td>5.102</td>\n",
       "      <td>{4.829, 5.408}</td>\n",
       "    </tr>\n",
       "    <tr>\n",
       "      <th>2</th>\n",
       "      <th>B</th>\n",
       "      <td>159</td>\n",
       "      <td>79.875</td>\n",
       "      <td>(79.117, 80.634)</td>\n",
       "      <td>79.50</td>\n",
       "      <td>4.842</td>\n",
       "      <td>{4.362, 5.442}</td>\n",
       "    </tr>\n",
       "    <tr>\n",
       "      <th>3</th>\n",
       "      <th>C</th>\n",
       "      <td>17</td>\n",
       "      <td>81.715</td>\n",
       "      <td>(79.625, 83.806)</td>\n",
       "      <td>81.04</td>\n",
       "      <td>4.066</td>\n",
       "      <td>{3.028, 6.188}</td>\n",
       "    </tr>\n",
       "  </tbody>\n",
       "</table>\n",
       "</div>"
      ],
      "text/plain": [
       "     y count  y mean         y mean ci  y median  y std    y std dev ci\n",
       "x w                                                                    \n",
       "1 A      603  81.528   (81.12, 81.936)     81.60  5.102  {4.829, 5.408}\n",
       "2 B      159  79.875  (79.117, 80.634)     79.50  4.842  {4.362, 5.442}\n",
       "3 C       17  81.715  (79.625, 83.806)     81.04  4.066  {3.028, 6.188}"
      ]
     },
     "execution_count": 12,
     "metadata": {},
     "output_type": "execute_result"
    }
   ],
   "source": [
    "# Calculate specific statistics for y by group.\n",
    "average_ci.__name__ = 'mean ci'\n",
    "std_dev_ci.__name__ = 'std dev ci'\n",
    "f = {'y' : ['count', 'mean', average_ci, 'median', 'std', std_dev_ci]}\n",
    "grouped = df.groupby(['x', 'w']).agg(f)\n",
    "# Create better names for the columns:\n",
    "grouped.columns = [\" \".join(x) for x in grouped.columns.ravel()]\n",
    "grouped.round(3)"
   ]
  },
  {
   "cell_type": "code",
   "execution_count": 13,
   "metadata": {},
   "outputs": [
    {
     "data": {
      "image/png": "[encoded data removed]",
      "text/plain": [
       "<Figure size 432x288 with 1 Axes>"
      ]
     },
     "metadata": {},
     "output_type": "display_data"
    }
   ],
   "source": [
    "# Plot a box plot of y v. x.\n",
    "# Add the \"magic function\" to render figures in a Jupyter notebook.\n",
    "# This is not required in a Python script file.\n",
    "%matplotlib inline\n",
    "ax = df.boxplot(column='y', by='x', grid=False, notch=True,\\\n",
    "                       showmeans=True)\n",
    "ax.get_figure().suptitle(\"\")\n",
    "ax.set_title('Y v. X')\n",
    "ax.set_ylabel('Y')\n",
    "ax.set_xlabel('X')\n",
    "for spine in 'right', 'top':\n",
    "    ax.spines[spine].set_color('none')"
   ]
  },
  {
   "cell_type": "code",
   "execution_count": 14,
   "metadata": {},
   "outputs": [
    {
     "data": {
      "image/png": "[encoded data removed]",
      "text/plain": [
       "<Figure size 432x288 with 1 Axes>"
      ]
     },
     "metadata": {},
     "output_type": "display_data"
    }
   ],
   "source": [
    "# Plot a box plot of y v. w.\n",
    "# Add the \"magic function\" to render figures in a Jupyter notebook.\n",
    "# This is not required in a Python script file.\n",
    "%matplotlib inline\n",
    "ax = df.boxplot(column='y', by='w', grid=False, notch=True,\\\n",
    "                       showmeans=True)\n",
    "ax.get_figure().suptitle(\"\")\n",
    "ax.set_title('Y v. W')\n",
    "ax.set_ylabel('Y')\n",
    "ax.set_xlabel('W')\n",
    "for spine in 'right', 'top':\n",
    "    ax.spines[spine].set_color('none')"
   ]
  },
  {
   "cell_type": "code",
   "execution_count": 15,
   "metadata": {},
   "outputs": [
    {
     "data": {
      "text/html": [
       "<div>\n",
       "<style scoped>\n",
       "    .dataframe tbody tr th:only-of-type {\n",
       "        vertical-align: middle;\n",
       "    }\n",
       "\n",
       "    .dataframe tbody tr th {\n",
       "        vertical-align: top;\n",
       "    }\n",
       "\n",
       "    .dataframe thead th {\n",
       "        text-align: right;\n",
       "    }\n",
       "</style>\n",
       "<table border=\"1\" class=\"dataframe\">\n",
       "  <thead>\n",
       "    <tr style=\"text-align: right;\">\n",
       "      <th></th>\n",
       "      <th>df</th>\n",
       "      <th>sum_sq</th>\n",
       "      <th>mean_sq</th>\n",
       "      <th>F</th>\n",
       "      <th>PR(&gt;F)</th>\n",
       "    </tr>\n",
       "  </thead>\n",
       "  <tbody>\n",
       "    <tr>\n",
       "      <th>C(x)</th>\n",
       "      <td>2.0</td>\n",
       "      <td>348.267032</td>\n",
       "      <td>174.133516</td>\n",
       "      <td>6.880207</td>\n",
       "      <td>0.001092</td>\n",
       "    </tr>\n",
       "    <tr>\n",
       "      <th>Residual</th>\n",
       "      <td>776.0</td>\n",
       "      <td>19640.050954</td>\n",
       "      <td>25.309344</td>\n",
       "      <td>NaN</td>\n",
       "      <td>NaN</td>\n",
       "    </tr>\n",
       "  </tbody>\n",
       "</table>\n",
       "</div>"
      ],
      "text/plain": [
       "             df        sum_sq     mean_sq         F    PR(>F)\n",
       "C(x)        2.0    348.267032  174.133516  6.880207  0.001092\n",
       "Residual  776.0  19640.050954   25.309344       NaN       NaN"
      ]
     },
     "execution_count": 15,
     "metadata": {},
     "output_type": "execute_result"
    }
   ],
   "source": [
    "# C(x) refers to x as a categorical variable.\n",
    "model_x = sm.formula.ols('y ~ C(x)',data=df).fit()\n",
    "anova_x_table = sm.stats.anova_lm(model_x, typ=1)\n",
    "anova_x_table"
   ]
  },
  {
   "cell_type": "code",
   "execution_count": 16,
   "metadata": {},
   "outputs": [
    {
     "data": {
      "text/html": [
       "<table class=\"simpletable\">\n",
       "<tr>\n",
       "        <td>Model:</td>               <td>OLS</td>         <td>Adj. R-squared:</td>     <td>0.015</td>  \n",
       "</tr>\n",
       "<tr>\n",
       "  <td>Dependent Variable:</td>         <td>y</td>               <td>AIC:</td>         <td>4730.7847</td>\n",
       "</tr>\n",
       "<tr>\n",
       "         <td>Date:</td>        <td>2018-08-17 16:54</td>        <td>BIC:</td>         <td>4744.7588</td>\n",
       "</tr>\n",
       "<tr>\n",
       "   <td>No. Observations:</td>         <td>779</td>         <td>Log-Likelihood:</td>    <td>-2362.4</td> \n",
       "</tr>\n",
       "<tr>\n",
       "       <td>Df Model:</td>              <td>2</td>           <td>F-statistic:</td>       <td>6.880</td>  \n",
       "</tr>\n",
       "<tr>\n",
       "     <td>Df Residuals:</td>           <td>776</td>       <td>Prob (F-statistic):</td>  <td>0.00109</td> \n",
       "</tr>\n",
       "<tr>\n",
       "      <td>R-squared:</td>            <td>0.017</td>            <td>Scale:</td>         <td>25.309</td>  \n",
       "</tr>\n",
       "</table>\n",
       "<table class=\"simpletable\">\n",
       "<tr>\n",
       "      <td></td>       <th>Coef.</th>  <th>Std.Err.</th>     <th>t</th>     <th>P>|t|</th> <th>[0.025</th>  <th>0.975]</th> \n",
       "</tr>\n",
       "<tr>\n",
       "  <th>Intercept</th> <td>81.5279</td>  <td>0.2049</td>  <td>397.9463</td> <td>0.0000</td> <td>81.1257</td> <td>81.9301</td>\n",
       "</tr>\n",
       "<tr>\n",
       "  <th>C(x)[T.2]</th> <td>-1.6524</td>  <td>0.4485</td>   <td>-3.6843</td> <td>0.0002</td> <td>-2.5328</td> <td>-0.7720</td>\n",
       "</tr>\n",
       "<tr>\n",
       "  <th>C(x)[T.3]</th> <td>0.1874</td>   <td>1.2372</td>   <td>0.1515</td>  <td>0.8797</td> <td>-2.2413</td> <td>2.6161</td> \n",
       "</tr>\n",
       "</table>\n",
       "<table class=\"simpletable\">\n",
       "<tr>\n",
       "     <td>Omnibus:</td>    <td>36.419</td>  <td>Durbin-Watson:</td>    <td>0.646</td>\n",
       "</tr>\n",
       "<tr>\n",
       "  <td>Prob(Omnibus):</td>  <td>0.000</td> <td>Jarque-Bera (JB):</td> <td>83.640</td>\n",
       "</tr>\n",
       "<tr>\n",
       "       <td>Skew:</td>     <td>-0.240</td>     <td>Prob(JB):</td>      <td>0.000</td>\n",
       "</tr>\n",
       "<tr>\n",
       "     <td>Kurtosis:</td>    <td>4.532</td>  <td>Condition No.:</td>      <td>7</td>  \n",
       "</tr>\n",
       "</table>"
      ],
      "text/plain": [
       "<class 'statsmodels.iolib.summary2.Summary'>\n",
       "\"\"\"\n",
       "                 Results: Ordinary least squares\n",
       "==================================================================\n",
       "Model:              OLS              Adj. R-squared:     0.015    \n",
       "Dependent Variable: y                AIC:                4730.7847\n",
       "Date:               2018-08-17 16:54 BIC:                4744.7588\n",
       "No. Observations:   779              Log-Likelihood:     -2362.4  \n",
       "Df Model:           2                F-statistic:        6.880    \n",
       "Df Residuals:       776              Prob (F-statistic): 0.00109  \n",
       "R-squared:          0.017            Scale:              25.309   \n",
       "-------------------------------------------------------------------\n",
       "               Coef.   Std.Err.     t      P>|t|    [0.025   0.975]\n",
       "-------------------------------------------------------------------\n",
       "Intercept     81.5279    0.2049  397.9463  0.0000  81.1257  81.9301\n",
       "C(x)[T.2]     -1.6524    0.4485   -3.6843  0.0002  -2.5328  -0.7720\n",
       "C(x)[T.3]      0.1874    1.2372    0.1515  0.8797  -2.2413   2.6161\n",
       "------------------------------------------------------------------\n",
       "Omnibus:               36.419       Durbin-Watson:          0.646 \n",
       "Prob(Omnibus):         0.000        Jarque-Bera (JB):       83.640\n",
       "Skew:                  -0.240       Prob(JB):               0.000 \n",
       "Kurtosis:              4.532        Condition No.:          7     \n",
       "==================================================================\n",
       "\n",
       "\"\"\""
      ]
     },
     "execution_count": 16,
     "metadata": {},
     "output_type": "execute_result"
    }
   ],
   "source": [
    "#model_x.summary() # For non-categorical X.\n",
    "model_x.summary2() # For categorical X."
   ]
  },
  {
   "cell_type": "code",
   "execution_count": 17,
   "metadata": {},
   "outputs": [
    {
     "data": {
      "text/html": [
       "<div>\n",
       "<style scoped>\n",
       "    .dataframe tbody tr th:only-of-type {\n",
       "        vertical-align: middle;\n",
       "    }\n",
       "\n",
       "    .dataframe tbody tr th {\n",
       "        vertical-align: top;\n",
       "    }\n",
       "\n",
       "    .dataframe thead th {\n",
       "        text-align: right;\n",
       "    }\n",
       "</style>\n",
       "<table border=\"1\" class=\"dataframe\">\n",
       "  <thead>\n",
       "    <tr style=\"text-align: right;\">\n",
       "      <th></th>\n",
       "      <th>df</th>\n",
       "      <th>sum_sq</th>\n",
       "      <th>mean_sq</th>\n",
       "      <th>F</th>\n",
       "      <th>PR(&gt;F)</th>\n",
       "    </tr>\n",
       "  </thead>\n",
       "  <tbody>\n",
       "    <tr>\n",
       "      <th>C(w)</th>\n",
       "      <td>2.0</td>\n",
       "      <td>348.267032</td>\n",
       "      <td>174.133516</td>\n",
       "      <td>6.880207</td>\n",
       "      <td>0.001092</td>\n",
       "    </tr>\n",
       "    <tr>\n",
       "      <th>Residual</th>\n",
       "      <td>776.0</td>\n",
       "      <td>19640.050954</td>\n",
       "      <td>25.309344</td>\n",
       "      <td>NaN</td>\n",
       "      <td>NaN</td>\n",
       "    </tr>\n",
       "  </tbody>\n",
       "</table>\n",
       "</div>"
      ],
      "text/plain": [
       "             df        sum_sq     mean_sq         F    PR(>F)\n",
       "C(w)        2.0    348.267032  174.133516  6.880207  0.001092\n",
       "Residual  776.0  19640.050954   25.309344       NaN       NaN"
      ]
     },
     "execution_count": 17,
     "metadata": {},
     "output_type": "execute_result"
    }
   ],
   "source": [
    "# C(w) refers to w as a categorical variable.\n",
    "model_w = sm.formula.ols('y ~ C(w)',data=df).fit()\n",
    "anova_w_table = sm.stats.anova_lm(model_w, typ=1)\n",
    "anova_w_table"
   ]
  },
  {
   "cell_type": "code",
   "execution_count": 18,
   "metadata": {},
   "outputs": [
    {
     "data": {
      "text/html": [
       "<table class=\"simpletable\">\n",
       "<tr>\n",
       "        <td>Model:</td>               <td>OLS</td>         <td>Adj. R-squared:</td>     <td>0.015</td>  \n",
       "</tr>\n",
       "<tr>\n",
       "  <td>Dependent Variable:</td>         <td>y</td>               <td>AIC:</td>         <td>4730.7847</td>\n",
       "</tr>\n",
       "<tr>\n",
       "         <td>Date:</td>        <td>2018-08-17 16:54</td>        <td>BIC:</td>         <td>4744.7588</td>\n",
       "</tr>\n",
       "<tr>\n",
       "   <td>No. Observations:</td>         <td>779</td>         <td>Log-Likelihood:</td>    <td>-2362.4</td> \n",
       "</tr>\n",
       "<tr>\n",
       "       <td>Df Model:</td>              <td>2</td>           <td>F-statistic:</td>       <td>6.880</td>  \n",
       "</tr>\n",
       "<tr>\n",
       "     <td>Df Residuals:</td>           <td>776</td>       <td>Prob (F-statistic):</td>  <td>0.00109</td> \n",
       "</tr>\n",
       "<tr>\n",
       "      <td>R-squared:</td>            <td>0.017</td>            <td>Scale:</td>         <td>25.309</td>  \n",
       "</tr>\n",
       "</table>\n",
       "<table class=\"simpletable\">\n",
       "<tr>\n",
       "      <td></td>       <th>Coef.</th>  <th>Std.Err.</th>     <th>t</th>     <th>P>|t|</th> <th>[0.025</th>  <th>0.975]</th> \n",
       "</tr>\n",
       "<tr>\n",
       "  <th>Intercept</th> <td>81.5279</td>  <td>0.2049</td>  <td>397.9463</td> <td>0.0000</td> <td>81.1257</td> <td>81.9301</td>\n",
       "</tr>\n",
       "<tr>\n",
       "  <th>C(w)[T.B]</th> <td>-1.6524</td>  <td>0.4485</td>   <td>-3.6843</td> <td>0.0002</td> <td>-2.5328</td> <td>-0.7720</td>\n",
       "</tr>\n",
       "<tr>\n",
       "  <th>C(w)[T.C]</th> <td>0.1874</td>   <td>1.2372</td>   <td>0.1515</td>  <td>0.8797</td> <td>-2.2413</td> <td>2.6161</td> \n",
       "</tr>\n",
       "</table>\n",
       "<table class=\"simpletable\">\n",
       "<tr>\n",
       "     <td>Omnibus:</td>    <td>36.419</td>  <td>Durbin-Watson:</td>    <td>0.646</td>\n",
       "</tr>\n",
       "<tr>\n",
       "  <td>Prob(Omnibus):</td>  <td>0.000</td> <td>Jarque-Bera (JB):</td> <td>83.640</td>\n",
       "</tr>\n",
       "<tr>\n",
       "       <td>Skew:</td>     <td>-0.240</td>     <td>Prob(JB):</td>      <td>0.000</td>\n",
       "</tr>\n",
       "<tr>\n",
       "     <td>Kurtosis:</td>    <td>4.532</td>  <td>Condition No.:</td>      <td>7</td>  \n",
       "</tr>\n",
       "</table>"
      ],
      "text/plain": [
       "<class 'statsmodels.iolib.summary2.Summary'>\n",
       "\"\"\"\n",
       "                 Results: Ordinary least squares\n",
       "==================================================================\n",
       "Model:              OLS              Adj. R-squared:     0.015    \n",
       "Dependent Variable: y                AIC:                4730.7847\n",
       "Date:               2018-08-17 16:54 BIC:                4744.7588\n",
       "No. Observations:   779              Log-Likelihood:     -2362.4  \n",
       "Df Model:           2                F-statistic:        6.880    \n",
       "Df Residuals:       776              Prob (F-statistic): 0.00109  \n",
       "R-squared:          0.017            Scale:              25.309   \n",
       "-------------------------------------------------------------------\n",
       "               Coef.   Std.Err.     t      P>|t|    [0.025   0.975]\n",
       "-------------------------------------------------------------------\n",
       "Intercept     81.5279    0.2049  397.9463  0.0000  81.1257  81.9301\n",
       "C(w)[T.B]     -1.6524    0.4485   -3.6843  0.0002  -2.5328  -0.7720\n",
       "C(w)[T.C]      0.1874    1.2372    0.1515  0.8797  -2.2413   2.6161\n",
       "------------------------------------------------------------------\n",
       "Omnibus:               36.419       Durbin-Watson:          0.646 \n",
       "Prob(Omnibus):         0.000        Jarque-Bera (JB):       83.640\n",
       "Skew:                  -0.240       Prob(JB):               0.000 \n",
       "Kurtosis:              4.532        Condition No.:          7     \n",
       "==================================================================\n",
       "\n",
       "\"\"\""
      ]
     },
     "execution_count": 18,
     "metadata": {},
     "output_type": "execute_result"
    }
   ],
   "source": [
    "#model_w.summary() # For non-categorical X.\n",
    "model_w.summary2() # For categorical X."
   ]
  },
  {
   "cell_type": "markdown",
   "metadata": {},
   "source": [
    "# Future work\n",
    "\n",
    "- Calculate Tukey post hoc means comparison.\n",
    "- Calculate average and CI, median and CI, standard deviation and CI, for all levels of y v. x and w."
   ]
  },
  {
   "cell_type": "markdown",
   "metadata": {},
   "source": [
    "# References\n",
    "\n",
    "[pandas](https://pandas.pydata.org/pandas-docs/stable/index.html)"
   ]
  }
 ],
 "metadata": {
  "kernelspec": {
   "display_name": "Python 3",
   "language": "python",
   "name": "python3"
  },
  "language_info": {
   "codemirror_mode": {
    "name": "ipython",
    "version": 3
   },
   "file_extension": ".py",
   "mimetype": "text/x-python",
   "name": "python",
   "nbconvert_exporter": "python",
   "pygments_lexer": "ipython3",
   "version": "3.6.6"
  }
 },
 "nbformat": 4,
 "nbformat_minor": 2
}
