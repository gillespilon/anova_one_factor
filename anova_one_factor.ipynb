{
 "cells": [
  {
   "cell_type": "markdown",
   "metadata": {},
   "source": [
    "# One-factor analysis of variance (one-way ANOVA)\n",
    "\n",
    "# In brevi\n",
    "\n",
    "The purpose of this repository is to illustrate a one-factor analysis of variance (one-way ANOVA). In addition, there are statistical and graphical analyses."
   ]
  },
  {
   "cell_type": "markdown",
   "metadata": {},
   "source": [
    "# Methodology\n",
    "\n",
    "Various data munging operations are performed using pandas. Various statistical analyses are performed using statsmodels, scipy, and numpy."
   ]
  },
  {
   "cell_type": "markdown",
   "metadata": {},
   "source": [
    "# Data\n",
    "\n",
    "Download the data file.\n",
    "\n",
    "[anova_one_factor.csv](https://drive.google.com/open?id=1smA0Brf2BiHUugRUhQWCiEj5hbyYv1DS)"
   ]
  },
  {
   "cell_type": "markdown",
   "metadata": {},
   "source": [
    "# Methodology\n",
    "\n",
    "Various data munging operations are performed using pandas."
   ]
  },
  {
   "cell_type": "code",
   "execution_count": 1,
   "metadata": {},
   "outputs": [],
   "source": [
    "from datetime import datetime\n",
    "start_time = datetime.now()"
   ]
  },
  {
   "cell_type": "code",
   "execution_count": 2,
   "metadata": {},
   "outputs": [
    {
     "name": "stderr",
     "output_type": "stream",
     "text": [
      "/home/gilles/.pyenv/versions/3.6.6/lib/python3.6/importlib/_bootstrap.py:219: RuntimeWarning: numpy.dtype size changed, may indicate binary incompatibility. Expected 96, got 88\n",
      "  return f(*args, **kwds)\n",
      "/home/gilles/.pyenv/versions/3.6.6/lib/python3.6/importlib/_bootstrap.py:219: RuntimeWarning: numpy.dtype size changed, may indicate binary incompatibility. Expected 96, got 88\n",
      "  return f(*args, **kwds)\n"
     ]
    }
   ],
   "source": [
    "# Import the required librairies.\n",
    "import pandas as pd\n",
    "import statsmodels.api as sm\n",
    "import scipy.stats as st\n",
    "import numpy as np"
   ]
  },
  {
   "cell_type": "code",
   "execution_count": 3,
   "metadata": {},
   "outputs": [],
   "source": [
    "# Declare constants\n",
    "confidence_level = 0.95\n",
    "bootstrap_number_samples = 10000"
   ]
  },
  {
   "cell_type": "code",
   "execution_count": 4,
   "metadata": {},
   "outputs": [
    {
     "data": {
      "text/plain": [
       "Index(['y', 'x', 'w'], dtype='object')"
      ]
     },
     "execution_count": 4,
     "metadata": {},
     "output_type": "execute_result"
    }
   ],
   "source": [
    "# Read the data file.\n",
    "# y is the column of response values.\n",
    "# x is the column of factor levels, as numbers.\n",
    "# w is the column of factor levels, as text.\n",
    "df = pd.read_csv('anova_one_factor.csv')\n",
    "df.columns"
   ]
  },
  {
   "cell_type": "code",
   "execution_count": 5,
   "metadata": {},
   "outputs": [
    {
     "data": {
      "text/plain": [
       "array([1])"
      ]
     },
     "execution_count": 5,
     "metadata": {},
     "output_type": "execute_result"
    }
   ],
   "source": [
    "# How many levels for factor x?\n",
    "df['x'].unique()"
   ]
  },
  {
   "cell_type": "code",
   "execution_count": 6,
   "metadata": {},
   "outputs": [
    {
     "data": {
      "text/plain": [
       "array([1])"
      ]
     },
     "execution_count": 6,
     "metadata": {},
     "output_type": "execute_result"
    }
   ],
   "source": [
    "# How many levels for factor w?\n",
    "df['w'].unique()"
   ]
  },
  {
   "cell_type": "code",
   "execution_count": 7,
   "metadata": {},
   "outputs": [
    {
     "data": {
      "text/html": [
       "<div>\n",
       "<style scoped>\n",
       "    .dataframe tbody tr th:only-of-type {\n",
       "        vertical-align: middle;\n",
       "    }\n",
       "\n",
       "    .dataframe tbody tr th {\n",
       "        vertical-align: top;\n",
       "    }\n",
       "\n",
       "    .dataframe thead th {\n",
       "        text-align: right;\n",
       "    }\n",
       "</style>\n",
       "<table border=\"1\" class=\"dataframe\">\n",
       "  <thead>\n",
       "    <tr style=\"text-align: right;\">\n",
       "      <th></th>\n",
       "      <th>count</th>\n",
       "      <th>mean</th>\n",
       "      <th>std</th>\n",
       "      <th>min</th>\n",
       "      <th>25%</th>\n",
       "      <th>50%</th>\n",
       "      <th>75%</th>\n",
       "      <th>max</th>\n",
       "    </tr>\n",
       "    <tr>\n",
       "      <th>x</th>\n",
       "      <th></th>\n",
       "      <th></th>\n",
       "      <th></th>\n",
       "      <th></th>\n",
       "      <th></th>\n",
       "      <th></th>\n",
       "      <th></th>\n",
       "      <th></th>\n",
       "    </tr>\n",
       "  </thead>\n",
       "  <tbody>\n",
       "    <tr>\n",
       "      <th>1</th>\n",
       "      <td>12.0</td>\n",
       "      <td>13.75</td>\n",
       "      <td>9.166391</td>\n",
       "      <td>2.0</td>\n",
       "      <td>7.25</td>\n",
       "      <td>12.5</td>\n",
       "      <td>20.5</td>\n",
       "      <td>27.0</td>\n",
       "    </tr>\n",
       "  </tbody>\n",
       "</table>\n",
       "</div>"
      ],
      "text/plain": [
       "   count   mean       std  min   25%   50%   75%   max\n",
       "x                                                     \n",
       "1   12.0  13.75  9.166391  2.0  7.25  12.5  20.5  27.0"
      ]
     },
     "execution_count": 7,
     "metadata": {},
     "output_type": "execute_result"
    }
   ],
   "source": [
    "# Calculate basic statistics for y by group within x.\n",
    "groupby_x = df['y'].groupby(df['x'])\n",
    "groupby_x.describe()"
   ]
  },
  {
   "cell_type": "code",
   "execution_count": 8,
   "metadata": {},
   "outputs": [
    {
     "data": {
      "text/html": [
       "<div>\n",
       "<style scoped>\n",
       "    .dataframe tbody tr th:only-of-type {\n",
       "        vertical-align: middle;\n",
       "    }\n",
       "\n",
       "    .dataframe tbody tr th {\n",
       "        vertical-align: top;\n",
       "    }\n",
       "\n",
       "    .dataframe thead th {\n",
       "        text-align: right;\n",
       "    }\n",
       "</style>\n",
       "<table border=\"1\" class=\"dataframe\">\n",
       "  <thead>\n",
       "    <tr style=\"text-align: right;\">\n",
       "      <th></th>\n",
       "      <th>count</th>\n",
       "      <th>mean</th>\n",
       "      <th>std</th>\n",
       "      <th>min</th>\n",
       "      <th>25%</th>\n",
       "      <th>50%</th>\n",
       "      <th>75%</th>\n",
       "      <th>max</th>\n",
       "    </tr>\n",
       "    <tr>\n",
       "      <th>w</th>\n",
       "      <th></th>\n",
       "      <th></th>\n",
       "      <th></th>\n",
       "      <th></th>\n",
       "      <th></th>\n",
       "      <th></th>\n",
       "      <th></th>\n",
       "      <th></th>\n",
       "    </tr>\n",
       "  </thead>\n",
       "  <tbody>\n",
       "    <tr>\n",
       "      <th>1</th>\n",
       "      <td>12.0</td>\n",
       "      <td>13.75</td>\n",
       "      <td>9.166391</td>\n",
       "      <td>2.0</td>\n",
       "      <td>7.25</td>\n",
       "      <td>12.5</td>\n",
       "      <td>20.5</td>\n",
       "      <td>27.0</td>\n",
       "    </tr>\n",
       "  </tbody>\n",
       "</table>\n",
       "</div>"
      ],
      "text/plain": [
       "   count   mean       std  min   25%   50%   75%   max\n",
       "w                                                     \n",
       "1   12.0  13.75  9.166391  2.0  7.25  12.5  20.5  27.0"
      ]
     },
     "execution_count": 8,
     "metadata": {},
     "output_type": "execute_result"
    }
   ],
   "source": [
    "# Calculate basic statistics for y by group within w.\n",
    "groupby_w = df['y'].groupby(df['w'])\n",
    "groupby_w.describe()"
   ]
  },
  {
   "cell_type": "code",
   "execution_count": 9,
   "metadata": {},
   "outputs": [],
   "source": [
    "def average_ci(data):\n",
    "    average_conf_int = sm.stats.DescrStatsW(data).\\\n",
    "                        tconfint_mean(alpha=1-confidence_level,\n",
    "                                      alternative='two-sided')\n",
    "    average_conf_int = (round(average_conf_int[0], 3),\n",
    "                        round(average_conf_int[1], 3))\n",
    "    return average_conf_int"
   ]
  },
  {
   "cell_type": "code",
   "execution_count": 10,
   "metadata": {},
   "outputs": [],
   "source": [
    "def std_dev_ci(data):\n",
    "    numerator = (data.count() - 1) * data.var()\n",
    "    lower_limit = np.sqrt((numerator / \\\n",
    "                           st.chi2.ppf((1 - confidence_level)/2,\n",
    "                                       data.count() - 1)))\n",
    "    upper_limit = np.sqrt(numerator / \\\n",
    "                          st.chi2.ppf((1- (1 - confidence_level)/2),\n",
    "                                      data.count() - 1))\n",
    "    std_dev_conf_int = lower_limit, upper_limit\n",
    "    std_dev_conf_int = (round(std_dev_conf_int[0], 3),\n",
    "                        round(std_dev_conf_int[1], 3))\n",
    "    return std_dev_conf_int"
   ]
  },
  {
   "cell_type": "code",
   "execution_count": 11,
   "metadata": {},
   "outputs": [],
   "source": [
    "#def bootstrap(data, statistic, confidence_level):\n",
    "#    n = len(data)\n",
    "#    idx = np.random.randint(0, n, (10000, n))\n",
    "#    samples = data[idx]\n",
    "#    stat = np.sort(statistic(samples, 1))\n",
    "#    return (stat[int(((1 - confidence_level)/2) * number_samples)],\n",
    "#            stat[int(((1 - (1- confidence_level)/2)) * number_samples)])"
   ]
  },
  {
   "cell_type": "code",
   "execution_count": 12,
   "metadata": {},
   "outputs": [],
   "source": [
    "#def median_ci(data):\n",
    "#    low, high = bootstrap(data, np.median, confidence_level)\n",
    "#    median_conf_int = low, high\n",
    "#    return median_conf_int"
   ]
  },
  {
   "cell_type": "code",
   "execution_count": 13,
   "metadata": {},
   "outputs": [],
   "source": [
    "def median_ci(data):\n",
    "    iqr = data.quantile(q=0.75, interpolation='midpoint') - \\\n",
    "          data.quantile(q=0.25, interpolation='midpoint')\n",
    "    margin_of_error = 1.57 * iqr / np.sqrt(data.count())\n",
    "    lower_limit = data.median() - margin_of_error\n",
    "    upper_limit = data.median() + margin_of_error\n",
    "    median_conf_int = lower_limit, upper_limit\n",
    "    median_conf_int = (round(median_conf_int[0], 3),\n",
    "                       round(median_conf_int[1], 3))\n",
    "    return median_conf_int"
   ]
  },
  {
   "cell_type": "code",
   "execution_count": 14,
   "metadata": {},
   "outputs": [],
   "source": [
    "def iqr(data):\n",
    "    q1 = data.quantile(.25, interpolation='midpoint')\n",
    "    q2 = data.quantile(.50, interpolation='midpoint')\n",
    "    q3 = data.quantile(.75, interpolation='midpoint')\n",
    "    iqr = q3 - q1\n",
    "    q1 = round(q1, 3)\n",
    "    q2 = round(q2, 3)\n",
    "    q3 = round(q3, 3)\n",
    "    iqr = round(iqr,3)\n",
    "    return q1, q2, q3, iqr"
   ]
  },
  {
   "cell_type": "code",
   "execution_count": 15,
   "metadata": {},
   "outputs": [
    {
     "data": {
      "text/html": [
       "<div>\n",
       "<style scoped>\n",
       "    .dataframe tbody tr th:only-of-type {\n",
       "        vertical-align: middle;\n",
       "    }\n",
       "\n",
       "    .dataframe tbody tr th {\n",
       "        vertical-align: top;\n",
       "    }\n",
       "\n",
       "    .dataframe thead th {\n",
       "        text-align: right;\n",
       "    }\n",
       "</style>\n",
       "<table border=\"1\" class=\"dataframe\">\n",
       "  <thead>\n",
       "    <tr style=\"text-align: right;\">\n",
       "      <th></th>\n",
       "      <th></th>\n",
       "      <th>y count</th>\n",
       "      <th>y mean</th>\n",
       "      <th>y mean ci</th>\n",
       "      <th>y median</th>\n",
       "      <th>y median ci</th>\n",
       "      <th>y iqr</th>\n",
       "      <th>y std</th>\n",
       "      <th>y std dev ci</th>\n",
       "    </tr>\n",
       "    <tr>\n",
       "      <th>x</th>\n",
       "      <th>w</th>\n",
       "      <th></th>\n",
       "      <th></th>\n",
       "      <th></th>\n",
       "      <th></th>\n",
       "      <th></th>\n",
       "      <th></th>\n",
       "      <th></th>\n",
       "      <th></th>\n",
       "    </tr>\n",
       "  </thead>\n",
       "  <tbody>\n",
       "    <tr>\n",
       "      <th>1</th>\n",
       "      <th>1</th>\n",
       "      <td>12</td>\n",
       "      <td>13.75</td>\n",
       "      <td>(7.926, 19.574)</td>\n",
       "      <td>12.5</td>\n",
       "      <td>(5.475, 19.525)</td>\n",
       "      <td>(6.5, 12.5, 22.0, 15.5)</td>\n",
       "      <td>9.166</td>\n",
       "      <td>(15.563, 6.493)</td>\n",
       "    </tr>\n",
       "  </tbody>\n",
       "</table>\n",
       "</div>"
      ],
      "text/plain": [
       "     y count  y mean        y mean ci  y median      y median ci  \\\n",
       "x w                                                                \n",
       "1 1       12   13.75  (7.926, 19.574)      12.5  (5.475, 19.525)   \n",
       "\n",
       "                       y iqr  y std     y std dev ci  \n",
       "x w                                                   \n",
       "1 1  (6.5, 12.5, 22.0, 15.5)  9.166  (15.563, 6.493)  "
      ]
     },
     "execution_count": 15,
     "metadata": {},
     "output_type": "execute_result"
    }
   ],
   "source": [
    "# Calculate specific statistics for y by group.\n",
    "average_ci.__name__ = 'mean ci'\n",
    "std_dev_ci.__name__ = 'std dev ci'\n",
    "median_ci.__name__ = 'median ci'\n",
    "iqr.__name__ = 'iqr'\n",
    "f = {'y' : ['count', 'mean', average_ci, 'median', median_ci, iqr, 'std', std_dev_ci]}\n",
    "grouped = df.groupby(['x', 'w']).agg(f)\n",
    "# Create better names for the columns:\n",
    "grouped.columns = [\" \".join(x) for x in grouped.columns.ravel()]\n",
    "grouped.round(3)"
   ]
  },
  {
   "cell_type": "code",
   "execution_count": 16,
   "metadata": {},
   "outputs": [
    {
     "data": {
      "image/png": "[encoded data removed]",
      "text/plain": [
       "<Figure size 432x288 with 1 Axes>"
      ]
     },
     "metadata": {},
     "output_type": "display_data"
    }
   ],
   "source": [
    "# Plot a box plot of y v. x.\n",
    "# Add the \"magic function\" to render figures in a Jupyter notebook.\n",
    "# This is not required in a Python script file.\n",
    "%matplotlib inline\n",
    "ax = df.boxplot(column='y', by='x', grid=False, notch=True,\\\n",
    "                       showmeans=True)\n",
    "ax.get_figure().suptitle(\"\")\n",
    "ax.set_title('Y v. X')\n",
    "ax.set_ylabel('Y')\n",
    "ax.set_xlabel('X')\n",
    "for spine in 'right', 'top':\n",
    "    ax.spines[spine].set_color('none')"
   ]
  },
  {
   "cell_type": "code",
   "execution_count": 17,
   "metadata": {},
   "outputs": [
    {
     "data": {
      "image/png": "[encoded data removed]",
      "text/plain": [
       "<Figure size 432x288 with 1 Axes>"
      ]
     },
     "metadata": {},
     "output_type": "display_data"
    }
   ],
   "source": [
    "# Plot a box plot of y v. w.\n",
    "# Add the \"magic function\" to render figures in a Jupyter notebook.\n",
    "# This is not required in a Python script file.\n",
    "%matplotlib inline\n",
    "ax = df.boxplot(column='y', by='w', grid=False, notch=True,\\\n",
    "                       showmeans=True)\n",
    "ax.get_figure().suptitle(\"\")\n",
    "ax.set_title('Y v. W')\n",
    "ax.set_ylabel('Y')\n",
    "ax.set_xlabel('W')\n",
    "for spine in 'right', 'top':\n",
    "    ax.spines[spine].set_color('none')"
   ]
  },
  {
   "cell_type": "code",
   "execution_count": 18,
   "metadata": {},
   "outputs": [
    {
     "name": "stderr",
     "output_type": "stream",
     "text": [
      "/home/gilles/.pyenv/versions/3.6.6/lib/python3.6/site-packages/scipy/stats/_distn_infrastructure.py:879: RuntimeWarning: invalid value encountered in greater\n",
      "  return (self.a < x) & (x < self.b)\n",
      "/home/gilles/.pyenv/versions/3.6.6/lib/python3.6/site-packages/scipy/stats/_distn_infrastructure.py:879: RuntimeWarning: invalid value encountered in less\n",
      "  return (self.a < x) & (x < self.b)\n",
      "/home/gilles/.pyenv/versions/3.6.6/lib/python3.6/site-packages/scipy/stats/_distn_infrastructure.py:1821: RuntimeWarning: invalid value encountered in less_equal\n",
      "  cond2 = cond0 & (x <= self.a)\n"
     ]
    },
    {
     "data": {
      "text/html": [
       "<div>\n",
       "<style scoped>\n",
       "    .dataframe tbody tr th:only-of-type {\n",
       "        vertical-align: middle;\n",
       "    }\n",
       "\n",
       "    .dataframe tbody tr th {\n",
       "        vertical-align: top;\n",
       "    }\n",
       "\n",
       "    .dataframe thead th {\n",
       "        text-align: right;\n",
       "    }\n",
       "</style>\n",
       "<table border=\"1\" class=\"dataframe\">\n",
       "  <thead>\n",
       "    <tr style=\"text-align: right;\">\n",
       "      <th></th>\n",
       "      <th>df</th>\n",
       "      <th>sum_sq</th>\n",
       "      <th>mean_sq</th>\n",
       "      <th>F</th>\n",
       "      <th>PR(&gt;F)</th>\n",
       "    </tr>\n",
       "  </thead>\n",
       "  <tbody>\n",
       "    <tr>\n",
       "      <th>C(x)</th>\n",
       "      <td>0.0</td>\n",
       "      <td>0.00</td>\n",
       "      <td>NaN</td>\n",
       "      <td>NaN</td>\n",
       "      <td>NaN</td>\n",
       "    </tr>\n",
       "    <tr>\n",
       "      <th>Residual</th>\n",
       "      <td>11.0</td>\n",
       "      <td>924.25</td>\n",
       "      <td>84.022727</td>\n",
       "      <td>NaN</td>\n",
       "      <td>NaN</td>\n",
       "    </tr>\n",
       "  </tbody>\n",
       "</table>\n",
       "</div>"
      ],
      "text/plain": [
       "            df  sum_sq    mean_sq   F  PR(>F)\n",
       "C(x)       0.0    0.00        NaN NaN     NaN\n",
       "Residual  11.0  924.25  84.022727 NaN     NaN"
      ]
     },
     "execution_count": 18,
     "metadata": {},
     "output_type": "execute_result"
    }
   ],
   "source": [
    "# C(x) refers to x as a categorical variable.\n",
    "model_x = sm.formula.ols('y ~ C(x)',data=df).fit()\n",
    "anova_x_table = sm.stats.anova_lm(model_x, typ=1)\n",
    "anova_x_table"
   ]
  },
  {
   "cell_type": "code",
   "execution_count": 19,
   "metadata": {},
   "outputs": [
    {
     "name": "stderr",
     "output_type": "stream",
     "text": [
      "/home/gilles/.pyenv/versions/3.6.6/lib/python3.6/site-packages/scipy/stats/stats.py:1394: UserWarning: kurtosistest only valid for n>=20 ... continuing anyway, n=12\n",
      "  \"anyway, n=%i\" % int(n))\n",
      "/home/gilles/.pyenv/versions/3.6.6/lib/python3.6/site-packages/statsmodels/regression/linear_model.py:1554: RuntimeWarning: invalid value encountered in double_scalars\n",
      "  return self.ess/self.df_model\n"
     ]
    },
    {
     "data": {
      "text/html": [
       "<table class=\"simpletable\">\n",
       "<tr>\n",
       "        <td>Model:</td>               <td>OLS</td>         <td>Adj. R-squared:</td>    <td>0.000</td> \n",
       "</tr>\n",
       "<tr>\n",
       "  <td>Dependent Variable:</td>         <td>y</td>               <td>AIC:</td>         <td>88.1834</td>\n",
       "</tr>\n",
       "<tr>\n",
       "         <td>Date:</td>        <td>2018-08-21 21:38</td>        <td>BIC:</td>         <td>88.6683</td>\n",
       "</tr>\n",
       "<tr>\n",
       "   <td>No. Observations:</td>         <td>12</td>          <td>Log-Likelihood:</td>   <td>-43.092</td>\n",
       "</tr>\n",
       "<tr>\n",
       "       <td>Df Model:</td>              <td>0</td>           <td>F-statistic:</td>       <td>nan</td>  \n",
       "</tr>\n",
       "<tr>\n",
       "     <td>Df Residuals:</td>           <td>11</td>        <td>Prob (F-statistic):</td>   <td>nan</td>  \n",
       "</tr>\n",
       "<tr>\n",
       "      <td>R-squared:</td>            <td>0.000</td>            <td>Scale:</td>        <td>84.023</td> \n",
       "</tr>\n",
       "</table>\n",
       "<table class=\"simpletable\">\n",
       "<tr>\n",
       "      <td></td>       <th>Coef.</th>  <th>Std.Err.</th>    <th>t</th>    <th>P>|t|</th> <th>[0.025</th> <th>0.975]</th> \n",
       "</tr>\n",
       "<tr>\n",
       "  <th>Intercept</th> <td>13.7500</td>  <td>2.6461</td>  <td>5.1963</td> <td>0.0003</td> <td>7.9260</td> <td>19.5740</td>\n",
       "</tr>\n",
       "</table>\n",
       "<table class=\"simpletable\">\n",
       "<tr>\n",
       "     <td>Omnibus:</td>    <td>2.400</td>  <td>Durbin-Watson:</td>   <td>0.098</td>\n",
       "</tr>\n",
       "<tr>\n",
       "  <td>Prob(Omnibus):</td> <td>0.301</td> <td>Jarque-Bera (JB):</td> <td>0.994</td>\n",
       "</tr>\n",
       "<tr>\n",
       "       <td>Skew:</td>     <td>0.184</td>     <td>Prob(JB):</td>     <td>0.608</td>\n",
       "</tr>\n",
       "<tr>\n",
       "     <td>Kurtosis:</td>   <td>1.639</td>  <td>Condition No.:</td>     <td>1</td>  \n",
       "</tr>\n",
       "</table>"
      ],
      "text/plain": [
       "<class 'statsmodels.iolib.summary2.Summary'>\n",
       "\"\"\"\n",
       "                Results: Ordinary least squares\n",
       "================================================================\n",
       "Model:              OLS              Adj. R-squared:     0.000  \n",
       "Dependent Variable: y                AIC:                88.1834\n",
       "Date:               2018-08-21 21:38 BIC:                88.6683\n",
       "No. Observations:   12               Log-Likelihood:     -43.092\n",
       "Df Model:           0                F-statistic:        nan    \n",
       "Df Residuals:       11               Prob (F-statistic): nan    \n",
       "R-squared:          0.000            Scale:              84.023 \n",
       "-----------------------------------------------------------------\n",
       "                Coef.   Std.Err.    t     P>|t|   [0.025   0.975]\n",
       "-----------------------------------------------------------------\n",
       "Intercept      13.7500    2.6461  5.1963  0.0003  7.9260  19.5740\n",
       "----------------------------------------------------------------\n",
       "Omnibus:               2.400       Durbin-Watson:          0.098\n",
       "Prob(Omnibus):         0.301       Jarque-Bera (JB):       0.994\n",
       "Skew:                  0.184       Prob(JB):               0.608\n",
       "Kurtosis:              1.639       Condition No.:          1    \n",
       "================================================================\n",
       "\n",
       "\"\"\""
      ]
     },
     "execution_count": 19,
     "metadata": {},
     "output_type": "execute_result"
    }
   ],
   "source": [
    "#model_x.summary() # For non-categorical X.\n",
    "model_x.summary2() # For categorical X."
   ]
  },
  {
   "cell_type": "code",
   "execution_count": 20,
   "metadata": {},
   "outputs": [
    {
     "name": "stderr",
     "output_type": "stream",
     "text": [
      "/home/gilles/.pyenv/versions/3.6.6/lib/python3.6/site-packages/scipy/stats/_distn_infrastructure.py:879: RuntimeWarning: invalid value encountered in greater\n",
      "  return (self.a < x) & (x < self.b)\n",
      "/home/gilles/.pyenv/versions/3.6.6/lib/python3.6/site-packages/scipy/stats/_distn_infrastructure.py:879: RuntimeWarning: invalid value encountered in less\n",
      "  return (self.a < x) & (x < self.b)\n",
      "/home/gilles/.pyenv/versions/3.6.6/lib/python3.6/site-packages/scipy/stats/_distn_infrastructure.py:1821: RuntimeWarning: invalid value encountered in less_equal\n",
      "  cond2 = cond0 & (x <= self.a)\n"
     ]
    },
    {
     "data": {
      "text/html": [
       "<div>\n",
       "<style scoped>\n",
       "    .dataframe tbody tr th:only-of-type {\n",
       "        vertical-align: middle;\n",
       "    }\n",
       "\n",
       "    .dataframe tbody tr th {\n",
       "        vertical-align: top;\n",
       "    }\n",
       "\n",
       "    .dataframe thead th {\n",
       "        text-align: right;\n",
       "    }\n",
       "</style>\n",
       "<table border=\"1\" class=\"dataframe\">\n",
       "  <thead>\n",
       "    <tr style=\"text-align: right;\">\n",
       "      <th></th>\n",
       "      <th>df</th>\n",
       "      <th>sum_sq</th>\n",
       "      <th>mean_sq</th>\n",
       "      <th>F</th>\n",
       "      <th>PR(&gt;F)</th>\n",
       "    </tr>\n",
       "  </thead>\n",
       "  <tbody>\n",
       "    <tr>\n",
       "      <th>C(w)</th>\n",
       "      <td>0.0</td>\n",
       "      <td>0.00</td>\n",
       "      <td>NaN</td>\n",
       "      <td>NaN</td>\n",
       "      <td>NaN</td>\n",
       "    </tr>\n",
       "    <tr>\n",
       "      <th>Residual</th>\n",
       "      <td>11.0</td>\n",
       "      <td>924.25</td>\n",
       "      <td>84.022727</td>\n",
       "      <td>NaN</td>\n",
       "      <td>NaN</td>\n",
       "    </tr>\n",
       "  </tbody>\n",
       "</table>\n",
       "</div>"
      ],
      "text/plain": [
       "            df  sum_sq    mean_sq   F  PR(>F)\n",
       "C(w)       0.0    0.00        NaN NaN     NaN\n",
       "Residual  11.0  924.25  84.022727 NaN     NaN"
      ]
     },
     "execution_count": 20,
     "metadata": {},
     "output_type": "execute_result"
    }
   ],
   "source": [
    "# C(w) refers to w as a categorical variable.\n",
    "model_w = sm.formula.ols('y ~ C(w)',data=df).fit()\n",
    "anova_w_table = sm.stats.anova_lm(model_w, typ=1)\n",
    "anova_w_table"
   ]
  },
  {
   "cell_type": "code",
   "execution_count": 21,
   "metadata": {},
   "outputs": [
    {
     "name": "stderr",
     "output_type": "stream",
     "text": [
      "/home/gilles/.pyenv/versions/3.6.6/lib/python3.6/site-packages/scipy/stats/stats.py:1394: UserWarning: kurtosistest only valid for n>=20 ... continuing anyway, n=12\n",
      "  \"anyway, n=%i\" % int(n))\n",
      "/home/gilles/.pyenv/versions/3.6.6/lib/python3.6/site-packages/statsmodels/regression/linear_model.py:1554: RuntimeWarning: invalid value encountered in double_scalars\n",
      "  return self.ess/self.df_model\n"
     ]
    },
    {
     "data": {
      "text/html": [
       "<table class=\"simpletable\">\n",
       "<tr>\n",
       "        <td>Model:</td>               <td>OLS</td>         <td>Adj. R-squared:</td>    <td>0.000</td> \n",
       "</tr>\n",
       "<tr>\n",
       "  <td>Dependent Variable:</td>         <td>y</td>               <td>AIC:</td>         <td>88.1834</td>\n",
       "</tr>\n",
       "<tr>\n",
       "         <td>Date:</td>        <td>2018-08-21 21:38</td>        <td>BIC:</td>         <td>88.6683</td>\n",
       "</tr>\n",
       "<tr>\n",
       "   <td>No. Observations:</td>         <td>12</td>          <td>Log-Likelihood:</td>   <td>-43.092</td>\n",
       "</tr>\n",
       "<tr>\n",
       "       <td>Df Model:</td>              <td>0</td>           <td>F-statistic:</td>       <td>nan</td>  \n",
       "</tr>\n",
       "<tr>\n",
       "     <td>Df Residuals:</td>           <td>11</td>        <td>Prob (F-statistic):</td>   <td>nan</td>  \n",
       "</tr>\n",
       "<tr>\n",
       "      <td>R-squared:</td>            <td>0.000</td>            <td>Scale:</td>        <td>84.023</td> \n",
       "</tr>\n",
       "</table>\n",
       "<table class=\"simpletable\">\n",
       "<tr>\n",
       "      <td></td>       <th>Coef.</th>  <th>Std.Err.</th>    <th>t</th>    <th>P>|t|</th> <th>[0.025</th> <th>0.975]</th> \n",
       "</tr>\n",
       "<tr>\n",
       "  <th>Intercept</th> <td>13.7500</td>  <td>2.6461</td>  <td>5.1963</td> <td>0.0003</td> <td>7.9260</td> <td>19.5740</td>\n",
       "</tr>\n",
       "</table>\n",
       "<table class=\"simpletable\">\n",
       "<tr>\n",
       "     <td>Omnibus:</td>    <td>2.400</td>  <td>Durbin-Watson:</td>   <td>0.098</td>\n",
       "</tr>\n",
       "<tr>\n",
       "  <td>Prob(Omnibus):</td> <td>0.301</td> <td>Jarque-Bera (JB):</td> <td>0.994</td>\n",
       "</tr>\n",
       "<tr>\n",
       "       <td>Skew:</td>     <td>0.184</td>     <td>Prob(JB):</td>     <td>0.608</td>\n",
       "</tr>\n",
       "<tr>\n",
       "     <td>Kurtosis:</td>   <td>1.639</td>  <td>Condition No.:</td>     <td>1</td>  \n",
       "</tr>\n",
       "</table>"
      ],
      "text/plain": [
       "<class 'statsmodels.iolib.summary2.Summary'>\n",
       "\"\"\"\n",
       "                Results: Ordinary least squares\n",
       "================================================================\n",
       "Model:              OLS              Adj. R-squared:     0.000  \n",
       "Dependent Variable: y                AIC:                88.1834\n",
       "Date:               2018-08-21 21:38 BIC:                88.6683\n",
       "No. Observations:   12               Log-Likelihood:     -43.092\n",
       "Df Model:           0                F-statistic:        nan    \n",
       "Df Residuals:       11               Prob (F-statistic): nan    \n",
       "R-squared:          0.000            Scale:              84.023 \n",
       "-----------------------------------------------------------------\n",
       "                Coef.   Std.Err.    t     P>|t|   [0.025   0.975]\n",
       "-----------------------------------------------------------------\n",
       "Intercept      13.7500    2.6461  5.1963  0.0003  7.9260  19.5740\n",
       "----------------------------------------------------------------\n",
       "Omnibus:               2.400       Durbin-Watson:          0.098\n",
       "Prob(Omnibus):         0.301       Jarque-Bera (JB):       0.994\n",
       "Skew:                  0.184       Prob(JB):               0.608\n",
       "Kurtosis:              1.639       Condition No.:          1    \n",
       "================================================================\n",
       "\n",
       "\"\"\""
      ]
     },
     "execution_count": 21,
     "metadata": {},
     "output_type": "execute_result"
    }
   ],
   "source": [
    "#model_w.summary() # For non-categorical X.\n",
    "model_w.summary2() # For categorical X."
   ]
  },
  {
   "cell_type": "code",
   "execution_count": 22,
   "metadata": {},
   "outputs": [
    {
     "data": {
      "text/plain": [
       "2.860753"
      ]
     },
     "execution_count": 22,
     "metadata": {},
     "output_type": "execute_result"
    }
   ],
   "source": [
    "end_time = datetime.now()\n",
    "(end_time - start_time).total_seconds()"
   ]
  },
  {
   "cell_type": "markdown",
   "metadata": {},
   "source": [
    "# Future work\n",
    "\n",
    "- Calculate Tukey post hoc means comparison.\n",
    "- Calculate average and CI, median and CI, standard deviation and CI, for all levels of y v. x and w."
   ]
  },
  {
   "cell_type": "markdown",
   "metadata": {},
   "source": [
    "# References\n",
    "\n",
    "[pandas](https://pandas.pydata.org/pandas-docs/stable/index.html)\n",
    "\n",
    "[statsmodels](https://www.statsmodels.org/stable/index.html)\n",
    "\n",
    "[scipy](https://docs.scipy.org/doc/scipy/reference/)\n",
    "\n",
    "[numpy](https://docs.scipy.org/doc/numpy/reference/)"
   ]
  }
 ],
 "metadata": {
  "kernelspec": {
   "display_name": "Python 3",
   "language": "python",
   "name": "python3"
  },
  "language_info": {
   "codemirror_mode": {
    "name": "ipython",
    "version": 3
   },
   "file_extension": ".py",
   "mimetype": "text/x-python",
   "name": "python",
   "nbconvert_exporter": "python",
   "pygments_lexer": "ipython3",
   "version": "3.6.6"
  }
 },
 "nbformat": 4,
 "nbformat_minor": 2
}
