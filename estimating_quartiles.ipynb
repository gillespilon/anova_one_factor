{
 "cells": [
  {
   "cell_type": "markdown",
   "metadata": {},
   "source": [
    "# Estimating quartiles"
   ]
  },
  {
   "cell_type": "markdown",
   "metadata": {},
   "source": [
    "# Document\n",
    "\n",
    "<table align=\"left\">\n",
    "    <tr>\n",
    "        <th class=\"text-align:left\">Title</th>\n",
    "        <td class=\"text-align:left\">Estimating quartiles</td>\n",
    "    </tr>\n",
    "    <tr>\n",
    "        <th class=\"text-align:left\">Last modified</th>\n",
    "        <td class=\"text-align:left\">2018-09-06</td>\n",
    "    </tr>\n",
    "    <tr>\n",
    "        <th class=\"text-align:left\">Author</th>\n",
    "        <td class=\"text-align:left\">Gilles Pilon <gillespilon13@gmail.com></td>\n",
    "    </tr>\n",
    "    <tr>\n",
    "        <th class=\"text-align:left\">Status</th>\n",
    "        <td class=\"text-align:left\">Active</td>\n",
    "    </tr>\n",
    "    <tr>\n",
    "        <th class=\"text-align:left\">Type</th>\n",
    "        <td class=\"text-align:left\">Jupyter notebook</td>\n",
    "    </tr>\n",
    "    <tr>\n",
    "        <th class=\"text-align:left\">Created</th>\n",
    "        <td class=\"text-align:left\">2018-08-18</td>\n",
    "    </tr>\n",
    "    <tr>\n",
    "        <th class=\"text-align:left\">File name</th>\n",
    "        <td class=\"text-align:left\">estimating_quartiles.ipynb</td>\n",
    "    </tr>\n",
    "    <tr>\n",
    "        <th class=\"text-align:left\">Other files required</th>\n",
    "        <td class=\"text-align:left\">estimating_quartiles.csv</td>\n",
    "    </tr>\n",
    "</table>"
   ]
  },
  {
   "cell_type": "markdown",
   "metadata": {},
   "source": [
    "# In brevi\n",
    "\n",
    "The purpose of this notebook is to explore the ways that Python calculates quartiles. During the development of the anova_one_factor notebook, I discovered that [Python](https://www.python.org), [LibreOffice](https://www.libreoffice.org), and [Excel](https://office.microsoft.com/excel/) calculate quartiles in the same way, but that Minitab and an online source calculate them differently. I've discovered that there are at least eleven ways to calculate quartiles."
   ]
  },
  {
   "cell_type": "markdown",
   "metadata": {},
   "source": [
    "# Data\n",
    "\n",
    "Download the data file.\n",
    "\n",
    "[estimating_quartiles](https://drive.google.com/open?id=1Nc_VFXo2SrsSdprfCmQYhLbJawAzKpH6)"
   ]
  },
  {
   "cell_type": "markdown",
   "metadata": {},
   "source": [
    "# Methodology\n",
    "\n",
    "Various data munging operations are performed using pandas."
   ]
  },
  {
   "cell_type": "markdown",
   "metadata": {},
   "source": [
    "# Explanation of the eleven methods\n",
    "\n",
    "Quantiles divide the range of a probability distribution into continuous intervals with equal probabilities, or divide the observations in a sample in the same way [Wikipedia](https://en.wikipedia.org/wiki/Quantile). A sample drawn from an unknown population requires estimating the quantiles. There are eleven known methods that commonly appear in statistical packages. Methods 1-3 are based on rounding. Methods 4-9 are based on linear interpolation.\n",
    "\n",
    "The data are sorted in increasing order. Each method computes $Q_{\\text{p}}$, the estimate for the $k^{th}$ $q$-quantile, where $p = k/q$, from a sample of size $N$ by computing a real-valued index $h$. When $h$ is an integer, the $h^{th}$ smallest of the $N$ values, $x_h$, is the quantile estimate. Otherwise, a rounding or interpolation scheme is used to compute the quantile estimate from $h$, $x_{\\lfloor \\text{h}\\rfloor}$, and $x_{\\lceil \\text{h}\\rceil}$.\n",
    "\n",
    "$$\n",
    "\\begin{equation}\n",
    "Q_p = (1 - \\gamma) \\space x_j \\space + \\space \\gamma \\space x_\\text{j + 1} \n",
    "\\end{equation}\n",
    "$$\n",
    "\n",
    "where:\n",
    "\n",
    "$$\n",
    "\\frac{j - m}{n} \\leq p \\lt \\frac{j - m + 1}{n} \\\\\n",
    "x_j \\text{ is the } j^{th} \\text{ order statistic} \\\\\n",
    "\\gamma \\text{ is a function of } j = \\text{floor(n*p + m)} \\\\\n",
    "m = \\text{alpha p + p*(1 - alphap - betap)} \\\\\n",
    "g = \\text{n*p + m - j}\n",
    "$$"
   ]
  },
  {
   "cell_type": "markdown",
   "metadata": {},
   "source": [
    "The following table is a work in progress, to combine the eleven methods into one table.\n",
    "\n",
    "<table>\n",
    "<tr>\n",
    "<th>Method</th>\n",
    "<th>Software</th>\n",
    "<th>$h$</th>\n",
    "<th>$Q_p$</th>\n",
    "<th>Notes</th>\n",
    "</tr>\n",
    "<tr>\n",
    "<td>1</td>\n",
    "<td>R-1, SAS-3, Maple-1</td>\n",
    "<td>$Np + 1/2$</td>\n",
    "<td>$x_{\\lfloor \\text{h} - 1/2\\rfloor}$</td>\n",
    "<td>Inverted empirical cumulative distribution function (CDF). When $p = 0$, use $x_1$.</td>\n",
    "</tr>\n",
    "<tr>\n",
    "<td>2</td>\n",
    "<td>R-2, SAS-5, Maple-2</td>\n",
    "<td>$Np + 1/2$</td>\n",
    "<td>$\\frac{x_{\\lfloor \\text{h} - 1/2\\rfloor} + x_{\\lfloor \\text{h} + 1/2\\rfloor}}{2}$</td>\n",
    "<td>The same as R-1, but with averaging at discontinuities. When $p = 0$, use $x_1$.When $p = 1$, use $x_N$.</td>\n",
    "</tr>\n",
    "<tr>\n",
    "<td>3</td>\n",
    "<td>R-3, SAS-2</td>\n",
    "<td>$Np$</td>\n",
    "<td>$x_{\\lfloor \\text{h}\\rceil}$</td>\n",
    "<td>The observation numbered closest to $Np$ (piecewise linear function). It is also called the nearest even-order statistic. Here, $\\lfloor \\text{h}\\rceil$ indicates rounding to the nearest integer, choosing the even integer in the case of a tie. When $p \\leq (1/2) / N$, use $x_1$.</td>\n",
    "</tr>\n",
    "</table>"
   ]
  },
  {
   "cell_type": "markdown",
   "metadata": {},
   "source": [
    "## Method 4\n",
    "\n",
    "Linear interpolation of the empirical CDF.\n",
    "\n",
    "$$\n",
    "\\begin{equation}\n",
    "    p(k) = k/n\n",
    "\\end{equation}\n",
    "$$"
   ]
  },
  {
   "cell_type": "markdown",
   "metadata": {},
   "source": [
    "## Method 5\n",
    "\n",
    "Hazen's model (piecewise linear function). The knots are the values midway through the steps of the empirical CDF. This method is used by MATLAB.\n",
    "\n",
    "$$\n",
    "\\begin{equation}\n",
    "    p(k) = (k - 0.5)/n\n",
    "\\end{equation}\n",
    "$$"
   ]
  },
  {
   "cell_type": "markdown",
   "metadata": {},
   "source": [
    "## Method 6\n",
    "\n",
    "Weibull quantile. This method is used by Minitab and SPSS.\n",
    "\n",
    "$$\n",
    "\\begin{equation}\n",
    "    p(k) = k/(n + 1)\n",
    "\\end{equation}\n",
    "$$"
   ]
  },
  {
   "cell_type": "markdown",
   "metadata": {},
   "source": [
    "## Method 7\n",
    "\n",
    "Interpolation points divide the sample range into n-1 intervals. This method is used by Maxima, S, and R (prior to version 2.0.0).\n",
    "\n",
    "$$\n",
    "\\begin{equation}\n",
    "    p(k) = (k - 1)/(n - 1)\n",
    "\\end{equation}\n",
    "$$"
   ]
  },
  {
   "cell_type": "markdown",
   "metadata": {},
   "source": [
    "## Method 8\n",
    "\n",
    "Unbiased median, regardless of the distribution. This method is recommended by Hyndman and Fan (1996).\n",
    "\n",
    "$$\n",
    "\\begin{equation}\n",
    "p(k) = (k - 1/3)/(n + 1/3)\n",
    "\\end{equation}\n",
    "$$"
   ]
  },
  {
   "cell_type": "markdown",
   "metadata": {},
   "source": [
    "## Method 9\n",
    "\n",
    "Approximate unbiased estimate for a normal distribution.\n",
    "\n",
    "$$\n",
    "\\begin{equation}\n",
    "p(k) = (k - 3/8)/(n + 1/4)\n",
    "\\end{equation}\n",
    "$$"
   ]
  },
  {
   "cell_type": "markdown",
   "metadata": {},
   "source": [
    "## Method 10\n",
    "\n",
    "Cunnane's definition (approximately unbiased)."
   ]
  },
  {
   "cell_type": "markdown",
   "metadata": {},
   "source": [
    "## Method 11\n",
    "\n",
    "Filliben's estimate."
   ]
  },
  {
   "cell_type": "markdown",
   "metadata": {},
   "source": [
    "# Code"
   ]
  },
  {
   "cell_type": "code",
   "execution_count": 1,
   "metadata": {},
   "outputs": [],
   "source": [
    "# Start of time estimation for the notebook.\n",
    "import datetime as dt\n",
    "start_time = dt.datetime.now()"
   ]
  },
  {
   "cell_type": "code",
   "execution_count": 2,
   "metadata": {},
   "outputs": [
    {
     "name": "stderr",
     "output_type": "stream",
     "text": [
      "/home/gilles/.pyenv/versions/3.6.6/lib/python3.6/importlib/_bootstrap.py:219: RuntimeWarning: numpy.dtype size changed, may indicate binary incompatibility. Expected 96, got 88\n",
      "  return f(*args, **kwds)\n",
      "/home/gilles/.pyenv/versions/3.6.6/lib/python3.6/importlib/_bootstrap.py:219: RuntimeWarning: numpy.dtype size changed, may indicate binary incompatibility. Expected 96, got 88\n",
      "  return f(*args, **kwds)\n"
     ]
    }
   ],
   "source": [
    "# Import the required librairies.\n",
    "import pandas as pd"
   ]
  },
  {
   "cell_type": "code",
   "execution_count": 3,
   "metadata": {},
   "outputs": [],
   "source": [
    "# Read the data file.\n",
    "# y is the column of response values.\n",
    "df = pd.read_csv('estimating_quartiles.csv')"
   ]
  },
  {
   "cell_type": "code",
   "execution_count": 4,
   "metadata": {},
   "outputs": [
    {
     "data": {
      "text/html": [
       "<div>\n",
       "<style scoped>\n",
       "    .dataframe tbody tr th:only-of-type {\n",
       "        vertical-align: middle;\n",
       "    }\n",
       "\n",
       "    .dataframe tbody tr th {\n",
       "        vertical-align: top;\n",
       "    }\n",
       "\n",
       "    .dataframe thead th {\n",
       "        text-align: right;\n",
       "    }\n",
       "</style>\n",
       "<table border=\"1\" class=\"dataframe\">\n",
       "  <thead>\n",
       "    <tr style=\"text-align: right;\">\n",
       "      <th></th>\n",
       "      <th>y</th>\n",
       "    </tr>\n",
       "  </thead>\n",
       "  <tbody>\n",
       "    <tr>\n",
       "      <th>count</th>\n",
       "      <td>8.000000</td>\n",
       "    </tr>\n",
       "    <tr>\n",
       "      <th>mean</th>\n",
       "      <td>20.875000</td>\n",
       "    </tr>\n",
       "    <tr>\n",
       "      <th>std</th>\n",
       "      <td>27.010249</td>\n",
       "    </tr>\n",
       "    <tr>\n",
       "      <th>min</th>\n",
       "      <td>0.000000</td>\n",
       "    </tr>\n",
       "    <tr>\n",
       "      <th>25%</th>\n",
       "      <td>0.750000</td>\n",
       "    </tr>\n",
       "    <tr>\n",
       "      <th>50%</th>\n",
       "      <td>7.500000</td>\n",
       "    </tr>\n",
       "    <tr>\n",
       "      <th>75%</th>\n",
       "      <td>35.500000</td>\n",
       "    </tr>\n",
       "    <tr>\n",
       "      <th>max</th>\n",
       "      <td>63.000000</td>\n",
       "    </tr>\n",
       "  </tbody>\n",
       "</table>\n",
       "</div>"
      ],
      "text/plain": [
       "               y\n",
       "count   8.000000\n",
       "mean   20.875000\n",
       "std    27.010249\n",
       "min     0.000000\n",
       "25%     0.750000\n",
       "50%     7.500000\n",
       "75%    35.500000\n",
       "max    63.000000"
      ]
     },
     "execution_count": 4,
     "metadata": {},
     "output_type": "execute_result"
    }
   ],
   "source": [
    "# Calculate basic statistics.\n",
    "df.describe()"
   ]
  },
  {
   "cell_type": "code",
   "execution_count": 5,
   "metadata": {},
   "outputs": [],
   "source": [
    "    \"\"\"\n",
    "    Return five statistics\n",
    "    \n",
    "    Returns\n",
    "    -------\n",
    "    min            = minimum value\n",
    "    quantile(0.25) = first quartile\n",
    "    quantile(0.50) = median\n",
    "    quantile(0.75) = third quartile\n",
    "    max            = maximum value\n",
    "    \"\"\"\n",
    "\n",
    "def five_number_summary(data: pd.Series) -> pd.DataFrame:\n",
    "   return pd.DataFrame([(interpolation,\n",
    "            data.min(),\n",
    "            data.quantile(0.25, interpolation=interpolation),\n",
    "            data.quantile(0.50, interpolation=interpolation),\n",
    "            data.quantile(0.75, interpolation=interpolation),\n",
    "            data.max())\n",
    "            for interpolation\n",
    "                in ('linear', 'lower', 'higher', 'nearest',\n",
    "                    'midpoint')],\n",
    "                columns=['interpolation', 'min', 'q1', 'q2',\n",
    "                         'q3', 'max']).\\\n",
    "                set_index(['interpolation'])"
   ]
  },
  {
   "cell_type": "code",
   "execution_count": 6,
   "metadata": {},
   "outputs": [
    {
     "data": {
      "text/html": [
       "<div>\n",
       "<style scoped>\n",
       "    .dataframe tbody tr th:only-of-type {\n",
       "        vertical-align: middle;\n",
       "    }\n",
       "\n",
       "    .dataframe tbody tr th {\n",
       "        vertical-align: top;\n",
       "    }\n",
       "\n",
       "    .dataframe thead th {\n",
       "        text-align: right;\n",
       "    }\n",
       "</style>\n",
       "<table border=\"1\" class=\"dataframe\">\n",
       "  <thead>\n",
       "    <tr style=\"text-align: right;\">\n",
       "      <th></th>\n",
       "      <th>min</th>\n",
       "      <th>q1</th>\n",
       "      <th>q2</th>\n",
       "      <th>q3</th>\n",
       "      <th>max</th>\n",
       "    </tr>\n",
       "    <tr>\n",
       "      <th>interpolation</th>\n",
       "      <th></th>\n",
       "      <th></th>\n",
       "      <th></th>\n",
       "      <th></th>\n",
       "      <th></th>\n",
       "    </tr>\n",
       "  </thead>\n",
       "  <tbody>\n",
       "    <tr>\n",
       "      <th>linear</th>\n",
       "      <td>0</td>\n",
       "      <td>0.75</td>\n",
       "      <td>7.5</td>\n",
       "      <td>35.5</td>\n",
       "      <td>63</td>\n",
       "    </tr>\n",
       "    <tr>\n",
       "      <th>lower</th>\n",
       "      <td>0</td>\n",
       "      <td>0.00</td>\n",
       "      <td>2.0</td>\n",
       "      <td>27.0</td>\n",
       "      <td>63</td>\n",
       "    </tr>\n",
       "    <tr>\n",
       "      <th>higher</th>\n",
       "      <td>0</td>\n",
       "      <td>1.00</td>\n",
       "      <td>13.0</td>\n",
       "      <td>61.0</td>\n",
       "      <td>63</td>\n",
       "    </tr>\n",
       "    <tr>\n",
       "      <th>nearest</th>\n",
       "      <td>0</td>\n",
       "      <td>1.00</td>\n",
       "      <td>13.0</td>\n",
       "      <td>27.0</td>\n",
       "      <td>63</td>\n",
       "    </tr>\n",
       "    <tr>\n",
       "      <th>midpoint</th>\n",
       "      <td>0</td>\n",
       "      <td>0.50</td>\n",
       "      <td>7.5</td>\n",
       "      <td>44.0</td>\n",
       "      <td>63</td>\n",
       "    </tr>\n",
       "  </tbody>\n",
       "</table>\n",
       "</div>"
      ],
      "text/plain": [
       "               min    q1    q2    q3  max\n",
       "interpolation                            \n",
       "linear           0  0.75   7.5  35.5   63\n",
       "lower            0  0.00   2.0  27.0   63\n",
       "higher           0  1.00  13.0  61.0   63\n",
       "nearest          0  1.00  13.0  27.0   63\n",
       "midpoint         0  0.50   7.5  44.0   63"
      ]
     },
     "execution_count": 6,
     "metadata": {},
     "output_type": "execute_result"
    }
   ],
   "source": [
    "results = five_number_summary(df['y'])\n",
    "results"
   ]
  },
  {
   "cell_type": "code",
   "execution_count": 7,
   "metadata": {},
   "outputs": [
    {
     "data": {
      "text/plain": [
       "35.5"
      ]
     },
     "execution_count": 7,
     "metadata": {},
     "output_type": "execute_result"
    }
   ],
   "source": [
    "results.iloc[0,3]"
   ]
  },
  {
   "cell_type": "code",
   "execution_count": 8,
   "metadata": {},
   "outputs": [],
   "source": [
    "    \"\"\"\n",
    "    Return six statistics\n",
    "    \n",
    "    Returns\n",
    "    -------\n",
    "    min            = minimum value\n",
    "    quantile(0.25) = first quartile\n",
    "    quantile(0.50) = median\n",
    "    quantile(0.75) = third quartile\n",
    "    max            = maximum value\n",
    "    iqr            = interquartile range\n",
    "    \"\"\"\n",
    "\n",
    "def six_number_summary(data: pd.Series) -> pd.DataFrame:\n",
    "   return pd.DataFrame([(interpolation,\n",
    "            data.min(),\n",
    "            data.quantile(0.25, interpolation=interpolation),\n",
    "            data.quantile(0.50, interpolation=interpolation),\n",
    "            data.quantile(0.75, interpolation=interpolation),\n",
    "            data.max(),\n",
    "            (data.quantile(0.75, interpolation=interpolation) -\\\n",
    "             data.quantile(0.25, interpolation=interpolation))\n",
    "            )\n",
    "            for interpolation\n",
    "                in ('linear', 'lower', 'higher', 'nearest',\n",
    "                    'midpoint')],\n",
    "                columns=['interpolation', 'min', 'q1', 'q2',\n",
    "                         'q3', 'max', 'iqr']).\\\n",
    "                set_index(['interpolation'])"
   ]
  },
  {
   "cell_type": "code",
   "execution_count": 9,
   "metadata": {},
   "outputs": [
    {
     "data": {
      "text/html": [
       "<div>\n",
       "<style scoped>\n",
       "    .dataframe tbody tr th:only-of-type {\n",
       "        vertical-align: middle;\n",
       "    }\n",
       "\n",
       "    .dataframe tbody tr th {\n",
       "        vertical-align: top;\n",
       "    }\n",
       "\n",
       "    .dataframe thead th {\n",
       "        text-align: right;\n",
       "    }\n",
       "</style>\n",
       "<table border=\"1\" class=\"dataframe\">\n",
       "  <thead>\n",
       "    <tr style=\"text-align: right;\">\n",
       "      <th></th>\n",
       "      <th>min</th>\n",
       "      <th>q1</th>\n",
       "      <th>q2</th>\n",
       "      <th>q3</th>\n",
       "      <th>max</th>\n",
       "      <th>iqr</th>\n",
       "    </tr>\n",
       "    <tr>\n",
       "      <th>interpolation</th>\n",
       "      <th></th>\n",
       "      <th></th>\n",
       "      <th></th>\n",
       "      <th></th>\n",
       "      <th></th>\n",
       "      <th></th>\n",
       "    </tr>\n",
       "  </thead>\n",
       "  <tbody>\n",
       "    <tr>\n",
       "      <th>linear</th>\n",
       "      <td>0</td>\n",
       "      <td>0.75</td>\n",
       "      <td>7.5</td>\n",
       "      <td>35.5</td>\n",
       "      <td>63</td>\n",
       "      <td>34.75</td>\n",
       "    </tr>\n",
       "    <tr>\n",
       "      <th>lower</th>\n",
       "      <td>0</td>\n",
       "      <td>0.00</td>\n",
       "      <td>2.0</td>\n",
       "      <td>27.0</td>\n",
       "      <td>63</td>\n",
       "      <td>27.00</td>\n",
       "    </tr>\n",
       "    <tr>\n",
       "      <th>higher</th>\n",
       "      <td>0</td>\n",
       "      <td>1.00</td>\n",
       "      <td>13.0</td>\n",
       "      <td>61.0</td>\n",
       "      <td>63</td>\n",
       "      <td>60.00</td>\n",
       "    </tr>\n",
       "    <tr>\n",
       "      <th>nearest</th>\n",
       "      <td>0</td>\n",
       "      <td>1.00</td>\n",
       "      <td>13.0</td>\n",
       "      <td>27.0</td>\n",
       "      <td>63</td>\n",
       "      <td>26.00</td>\n",
       "    </tr>\n",
       "    <tr>\n",
       "      <th>midpoint</th>\n",
       "      <td>0</td>\n",
       "      <td>0.50</td>\n",
       "      <td>7.5</td>\n",
       "      <td>44.0</td>\n",
       "      <td>63</td>\n",
       "      <td>43.50</td>\n",
       "    </tr>\n",
       "  </tbody>\n",
       "</table>\n",
       "</div>"
      ],
      "text/plain": [
       "               min    q1    q2    q3  max    iqr\n",
       "interpolation                                   \n",
       "linear           0  0.75   7.5  35.5   63  34.75\n",
       "lower            0  0.00   2.0  27.0   63  27.00\n",
       "higher           0  1.00  13.0  61.0   63  60.00\n",
       "nearest          0  1.00  13.0  27.0   63  26.00\n",
       "midpoint         0  0.50   7.5  44.0   63  43.50"
      ]
     },
     "execution_count": 9,
     "metadata": {},
     "output_type": "execute_result"
    }
   ],
   "source": [
    "results = six_number_summary(df['y'])\n",
    "results"
   ]
  },
  {
   "cell_type": "code",
   "execution_count": 10,
   "metadata": {},
   "outputs": [
    {
     "data": {
      "text/plain": [
       "0.511271"
      ]
     },
     "execution_count": 10,
     "metadata": {},
     "output_type": "execute_result"
    }
   ],
   "source": [
    "# End of time estimation for the notebook.\n",
    "end_time = dt.datetime.now()\n",
    "(end_time - start_time).total_seconds()"
   ]
  },
  {
   "cell_type": "markdown",
   "metadata": {},
   "source": [
    "# Future work\n",
    "\n",
    "- Add detail to explain each of the eleven methods for estimating quantiles.\n",
    "- Determine how to calculate four additional methods for estimating quartiles. See journal article by Hyndman and Fan."
   ]
  },
  {
   "cell_type": "markdown",
   "metadata": {},
   "source": [
    "# References\n",
    "\n",
    "[Five-number summary](https://en.wikipedia.org/wiki/Five-number_summary)\n",
    "\n",
    "Hyndman, Rob J. and Yanan Fan. \"Sample Quantiles in Statistical Packages.\" *The American Statistician* Vol. 50, No. 4 (Nov. 1996): 361-365. [JSTOR 2684934](http://www.jstor.org/stable/2684934).\n",
    "\n",
    "[pandas](https://pandas.pydata.org/pandas-docs/stable/api.html)\n",
    "\n",
    "Wikipedia. \"Quantile\". Last modified 2018-08-01. [https://en.wikipedia.org/wiki/Quantile](https://en.wikipedia.org/wiki/Quantile)"
   ]
  }
 ],
 "metadata": {
  "kernelspec": {
   "display_name": "Python 3",
   "language": "python",
   "name": "python3"
  },
  "language_info": {
   "codemirror_mode": {
    "name": "ipython",
    "version": 3
   },
   "file_extension": ".py",
   "mimetype": "text/x-python",
   "name": "python",
   "nbconvert_exporter": "python",
   "pygments_lexer": "ipython3",
   "version": "3.6.6"
  }
 },
 "nbformat": 4,
 "nbformat_minor": 2
}
